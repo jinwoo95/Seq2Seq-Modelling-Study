{
  "nbformat": 4,
  "nbformat_minor": 0,
  "metadata": {
    "accelerator": "GPU",
    "colab": {
      "name": "Tony_Seq2Seq.ipynb",
      "provenance": [],
      "authorship_tag": "ABX9TyOI/pDhKtkeWRh3vJ2aVFfZ"
    },
    "kernelspec": {
      "display_name": "Python 3",
      "name": "python3"
    }
  },
  "cells": [
    {
      "cell_type": "markdown",
      "metadata": {
        "id": "y_N5YWIMxA6x"
      },
      "source": [
        "# Seq2Seq\n",
        "\n",
        "- Seq2Seq network는 **두 개의 RNN 네트워크**로 이루어집니다. 기존의 vanila RNN 이나 LSTM 구조는 하나의 RNN 네트워크였다면 Seq2Seq network는 **입력시퀀스를 받는 RNN 네트워크 1개(Encoder)**, **출력 시퀀스를 담당하는 네트워크 1개(Decoder)**로 총 2개의 네트워크 구성으로 이루어집니다.\n",
        "-  입력 네트워크에서는 입력 시퀀스를 받아들여 이것을 하나의 **Vector(Context Vector)**로 요약 합니다. 즉, 입력 네트워크(Encoder)의 목적은 입력 시퀀스의 정보를 고정된 길이의 vector로 잘 **요약**하는 것입니다. \n",
        "- 출력 네트워크에서는 입력 네트워크의 출력 값인 Vector와 각 Hidden cell의 output 값이 입력으로 들어가면서 출력을 하게 됩니다. \n",
        "- LSTM과 같은 모델에 비해서 Seq2Seq 모델이 번역분야에서 더욱 잘 작동하는 이유는 번역 작업의 특성을 찾아보면 그 해답을 찾을 수 있습니다. 번역 작업에 있어, **문장 전체를 다 보고 번역하는 것**과, **하나의 단어 단위로 번역하는 것**에는 차이가 있습니다. **Seq2Seq 네트워크는 문장 전체(하나의 Sequence)를 다 보고 vector로 그 정보를 요약하기 때문에, 문장 전체가 정확히 다 끝난 것인지 확신할 수 없는 LSTM 구조에 비해 훨씬 더 좋은 성능을 보이게 됩니다.**\n",
        "\n",
        "## 실습\n",
        "- 해당 자료에서는 일반적 NLP과정에서 Seq2Seq를 적용해보겠습니다.\n",
        "\n",
        "참고 자료 : https://tutorials.pytorch.kr/intermediate/seq2seq_translation_tutorial.html"
      ]
    },
    {
      "cell_type": "markdown",
      "metadata": {
        "id": "NT57x9Di1o6x"
      },
      "source": [
        "### 패키지 import"
      ]
    },
    {
      "cell_type": "code",
      "metadata": {
        "colab": {
          "base_uri": "https://localhost:8080/"
        },
        "id": "TZa3RAW0xCqF",
        "outputId": "a3affdfd-9600-4a84-f956-350abcc11be2"
      },
      "source": [
        "#공유 드라이브 연결\n",
        "from google.colab import drive\n",
        "import os\n",
        "drive.mount('/content/gdrive/', force_remount=True)\n",
        "os.chdir('gdrive/MyDrive/DoVie/Week1 Seq2seq/')"
      ],
      "execution_count": null,
      "outputs": [
        {
          "output_type": "stream",
          "text": [
            "Mounted at /content/gdrive/\n"
          ],
          "name": "stdout"
        }
      ]
    },
    {
      "cell_type": "code",
      "metadata": {
        "id": "VAPZinKKxS5p"
      },
      "source": [
        "from __future__ import unicode_literals, print_function, division\n",
        "from io import open\n",
        "import unicodedata\n",
        "import string\n",
        "import re\n",
        "import random\n",
        "\n",
        "import torch\n",
        "import torch.nn as nn\n",
        "from torch import optim\n",
        "import torch.nn.functional as F\n",
        "\n",
        "device = torch.device(\"cuda\" if torch.cuda.is_available() else \"cpu\") #GPU를 사용하기 위한 코드"
      ],
      "execution_count": null,
      "outputs": []
    },
    {
      "cell_type": "markdown",
      "metadata": {
        "id": "m3_AvQFh1s5W"
      },
      "source": [
        "### 데이터 파일 로딩\n",
        "- 해당 데이터트 수천 개의 영어-프랑스어 번역 쌍입니다.\n",
        "- 번역에는 아주 많은 단어들이 있기 때문에 인코딩 벡터 크기가 매우 큽니다. 그래서 해당 예제에서는 약간의 트릭을 써서 데이터에서 등장한 단어만 사용하여 embeding 하도록 데이터를 다듬었습니다.\n",
        "\n",
        "![image.png](data:image/png;base64,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)\n",
        "\n",
        "나중에 네트워크의 입력 및 목표로 사용하려면 단어 당 고유 번호가 필요합니다. 이 모든 것을 추적하기 위해 우리는 단어→색인(word2index)과 색인→단어(index2word) 사전, 그리고 나중에 희귀 단어를 대체하는데 사용할 각 단어의 빈도 word2count 를 가진 Lang 이라는 헬퍼 클래스를 사용합니다.\n",
        "\n",
        "### Lang Class"
      ]
    },
    {
      "cell_type": "code",
      "metadata": {
        "id": "iB0O1Nhn1VIb"
      },
      "source": [
        "SOS_token = 0\n",
        "EOS_token = 1\n",
        "\n",
        "\n",
        "class Lang:\n",
        "    def __init__(self, name):\n",
        "        self.name = name\n",
        "        self.word2index = {}\n",
        "        self.word2count = {}\n",
        "        self.index2word = {0: \"SOS\", 1: \"EOS\"}\n",
        "        self.n_words = 2  # SOS 와 EOS 포함\n",
        "\n",
        "    def addSentence(self, sentence):\n",
        "        for word in sentence.split(' '):\n",
        "            self.addWord(word)\n",
        "\n",
        "    def addWord(self, word):\n",
        "        if word not in self.word2index:\n",
        "            self.word2index[word] = self.n_words\n",
        "            self.word2count[word] = 1\n",
        "            self.index2word[self.n_words] = word\n",
        "            self.n_words += 1\n",
        "        else:\n",
        "            self.word2count[word] += 1"
      ],
      "execution_count": null,
      "outputs": []
    },
    {
      "cell_type": "markdown",
      "metadata": {
        "id": "KBGD86xIIfH0"
      },
      "source": [
        "파일은 모두 유니 코드로 되어있어 간단하게하기 위해 유니 코드 문자를 ASCII로 변환하고, 모든 문자를 소문자로 만들고, 대부분의 구두점을 지워줍니다.\n"
      ]
    },
    {
      "cell_type": "code",
      "metadata": {
        "id": "IwwzAveEIhTs"
      },
      "source": [
        "# 유니 코드 문자열을 일반 ASCII로 변환하십시오.\n",
        "# https://stackoverflow.com/a/518232/2809427\n",
        "def unicodeToAscii(s):\n",
        "    return ''.join(\n",
        "        c for c in unicodedata.normalize('NFD', s)\n",
        "        if unicodedata.category(c) != 'Mn'\n",
        "    )\n",
        "\n",
        "# 소문자, 다듬기, 그리고 문자가 아닌 문자 제거\n",
        "def normalizeString(s):\n",
        "    s = unicodeToAscii(s.lower().strip())\n",
        "    s = re.sub(r\"([.!?])\", r\" \\1\", s)\n",
        "    s = re.sub(r\"[^a-zA-Z.!?]+\", r\" \", s)\n",
        "    return s"
      ],
      "execution_count": null,
      "outputs": []
    },
    {
      "cell_type": "markdown",
      "metadata": {
        "id": "4h_gK39oIpEW"
      },
      "source": [
        "To read the data file we will split the file into lines, and then split lines into pairs. The files are all English → Other Language, so if we want to translate from Other Language → English I added the reverse flag to reverse the pairs.\n",
        "\n"
      ]
    },
    {
      "cell_type": "code",
      "metadata": {
        "id": "lRbjm5aVIkFD"
      },
      "source": [
        "def readLangs(lang1, lang2, reverse=False):\n",
        "    print(\"Reading lines...\")\n",
        "\n",
        "    # 파일을 읽고 줄로 분리\n",
        "    lines = open('data/%s-%s.txt' % (lang1, lang2), encoding='utf-8').\\\n",
        "        read().strip().split('\\n')\n",
        "\n",
        "    # 모든 줄을 쌍으로 분리하고 정규화\n",
        "    pairs = [[normalizeString(s) for s in l.split('\\t')] for l in lines]\n",
        "\n",
        "    # 쌍을 뒤집고, Lang 인스턴스 생성\n",
        "    if reverse:\n",
        "        pairs = [list(reversed(p)) for p in pairs]\n",
        "        input_lang = Lang(lang2)\n",
        "        output_lang = Lang(lang1)\n",
        "    else:\n",
        "        input_lang = Lang(lang1)\n",
        "        output_lang = Lang(lang2)\n",
        "\n",
        "    return input_lang, output_lang, pairs"
      ],
      "execution_count": null,
      "outputs": []
    },
    {
      "cell_type": "markdown",
      "metadata": {
        "id": "Kom-MdKVJO63"
      },
      "source": [
        "많은 예제 문장이 있고 신속하게 학습하기를 원하기 때문에 비교적 짧고 간단한 문장으로만 데이터 셋을 정리할 것입니다. 여기서 최대 길이는 10 단어 (종료 문장 부호 포함)이며 “I am” 또는 “He is” 등의 형태로 번역되는 문장으로 필터링됩니다.(이전에 아포스트로피는 대체 됨)"
      ]
    },
    {
      "cell_type": "code",
      "metadata": {
        "id": "IMfDWxs3JOAY"
      },
      "source": [
        "MAX_LENGTH = 10\n",
        "\n",
        "eng_prefixes = (\n",
        "    \"i am \", \"i m \",\n",
        "    \"he is\", \"he s \",\n",
        "    \"she is\", \"she s \",\n",
        "    \"you are\", \"you re \",\n",
        "    \"we are\", \"we re \",\n",
        "    \"they are\", \"they re \"\n",
        ")\n",
        "\n",
        "\n",
        "def filterPair(p):\n",
        "    return len(p[0].split(' ')) < MAX_LENGTH and \\\n",
        "        len(p[1].split(' ')) < MAX_LENGTH and \\\n",
        "        p[1].startswith(eng_prefixes)\n",
        "\n",
        "\n",
        "def filterPairs(pairs):\n",
        "    return [pair for pair in pairs if filterPair(pair)]"
      ],
      "execution_count": null,
      "outputs": []
    },
    {
      "cell_type": "markdown",
      "metadata": {
        "id": "9yu6h9nJJTbf"
      },
      "source": [
        "데이터 준비를 위한 전체 과정:\n",
        "\n",
        "- 텍스트 파일을 읽고 줄로 분리하고, 줄을 쌍으로 분리합니다.\n",
        "\n",
        "- 텍스트를 정규화 하고 길이와 내용으로 필터링 합니다.\n",
        "\n",
        "- 쌍을 이룬 문장들로 단어 리스트를 생성합니다."
      ]
    },
    {
      "cell_type": "code",
      "metadata": {
        "colab": {
          "base_uri": "https://localhost:8080/"
        },
        "id": "z48obH4qJSzW",
        "outputId": "eef86145-1c31-4b5f-ec46-b3c315f4b506"
      },
      "source": [
        "def prepareData(lang1, lang2, reverse=False):\n",
        "    input_lang, output_lang, pairs = readLangs(lang1, lang2, reverse)\n",
        "    print(\"Read %s sentence pairs\" % len(pairs))\n",
        "    pairs = filterPairs(pairs)\n",
        "    print(\"Trimmed to %s sentence pairs\" % len(pairs))\n",
        "    print(\"Counting words...\")\n",
        "    for pair in pairs:\n",
        "        input_lang.addSentence(pair[0])\n",
        "        output_lang.addSentence(pair[1])\n",
        "    print(\"Counted words:\")\n",
        "    print(input_lang.name, input_lang.n_words)\n",
        "    print(output_lang.name, output_lang.n_words)\n",
        "    return input_lang, output_lang, pairs\n",
        "\n",
        "\n",
        "input_lang, output_lang, pairs = prepareData('eng', 'fra', True)\n",
        "print(random.choice(pairs))"
      ],
      "execution_count": null,
      "outputs": [
        {
          "output_type": "stream",
          "text": [
            "Reading lines...\n",
            "Read 135842 sentence pairs\n",
            "Trimmed to 10599 sentence pairs\n",
            "Counting words...\n",
            "Counted words:\n",
            "fra 4345\n",
            "eng 2803\n",
            "['nous ne sommes pas en train de manger .', 'we re not eating .']\n"
          ],
          "name": "stdout"
        }
      ]
    },
    {
      "cell_type": "markdown",
      "metadata": {
        "id": "nyZXURdgKdwI"
      },
      "source": [
        "# Seq2Seq 모델\n",
        "Recurrent Neural Network(RNN)는 시퀀스에서 작동하고 다음 단계의 입력으로 자신의 출력을 사용하는 네트워크입니다.\n",
        "\n",
        "Sequence to Sequence network, 또는 Seq2Seq 네트워크, 또는 Encoder Decoder network 는 인코더 및 디코더라고 하는 두 개의 RNN으로 구성된 모델입니다. 인코더는 입력 시퀀스를 읽고 단일 벡터를 출력하고, 디코더는 해당 벡터를 읽어 출력 시퀀스를 생성합니다.\n",
        "\n",
        "![image.png](data:image/png;base64,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)\n",
        "\n",
        "모든 입력에 해당하는 출력이 있는 단일 RNN의 시퀀스 예측과 달리 Seq2Seq 모델은 시퀀스 길이와 순서를 자유롭게하기 때문에 두 언어 사이의 번역에 이상적입니다.\n",
        "\n",
        "다음 문장 “Je ne suis pas le chat noir” → “I am not the black cat” 를 살펴 봅시다. 입력 문장의 단어 대부분은 출력 문장에서 직역(“chat noir” 와 “black cat”)되지만 약간 다른 순서도 있습니다. “ne/pas” 구조로 인해 입력 문장에 단어가 하나 더 있습니다. 입력 단어의 시퀀스를 직역해서 정확한 번역을 만드는 것은 어려울 것입니다.\n",
        "\n",
        "Seq2Seq 모델을 사용하면 인코더는 하나의 벡터를 생성합니다. 이상적인 경우에 입력 시퀀스의 “의미”를 문장의 N 차원 공간에 있는 단일 지점인 단일 벡터으로 인코딩합니다.\n",
        "\n",
        "## 인코더\n",
        "\n",
        "Seq2Seq 네트워크의 인코더는 입력 문장의 모든 단어에 대해 어떤 값을 출력하는 RNN입니다. 모든 입력 단어에 대해 인코더는 벡터와 은닉 상태를 출력하고 다음 입력 단어를 위해 그 은닉 상태를 사용합니다.\n",
        "\n",
        "### 전체적인 과정 요약\n",
        "- t시점에 특정 단어가 input으로 들어오면 embedding을 통해 해당 단어를 벡터로 표시하고, 해당 값과 t-1시점의 hidden state 출력 값을 GRU 셀에 인풋으로 넣는다.\n",
        "- GRU 셀의 출력은 두 가지 이용되는데 하나는 다음 Hidden state 셀에 입력이 되고, 나머지 하나는 output list에 삽입된다. "
      ]
    },
    {
      "cell_type": "markdown",
      "metadata": {
        "id": "OhEgdGb3LCId"
      },
      "source": [
        "![image.png](data:image/png;base64,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)\n",
        "\n",
        "#### ____init____ function\n",
        "- 해당 function은 class가 생성될 때 구조를 정의해주는 기능을 한다. \n",
        "- nn.module을 상속받고, RNN구조를 설정해주는데, hidden_size 설정을 통해서 hidden cell의 output의 size를 설정해준다. \n",
        "- 그리고 embedding 클래스를 호출하여, input_size의 input_data를 받으면 hidden_size의 vector로 embedding한다.\n",
        "- 마지막으로 Hidden cell은 연산속도가 비교적 빠른 GRU cell을 이용하며, input(embedding을 거쳤으므로)과 hidden_state 모두 크기가 hidden_size기이 때문에, 두 개의 인풋 사이즈가 hidden_size로 동일하다.\n",
        "\n",
        "#### foward function\n",
        "- 해당 function은 데이터가 output으로 나오기까지의 과정을 보여주는 함수이다.\n",
        "- 처음 input_data는 embedding 과정을 거치는데, (1,1,-1)은 sequence = 1, batch_size = 1, input_size 만 n인 것으로 해석가능하며, 한 문장이 잘려서 들어오는 것이 아닌, 통째로 하나의 vector로 들어가고 있음을 확인할 수 있다. \n",
        "- embedding함수를 통해 나온 값을 gru 셀에 넣어준다. 그리고 gru의 출력 값을 return 받는다.\n",
        "\n",
        "#### initHidden function\n",
        "- 해당 함수는 첫 hidden_state 를 0으로 만들어주는 함수이다.\n",
        "\n"
      ]
    },
    {
      "cell_type": "code",
      "metadata": {
        "id": "Cf-6O3mjJZ5k"
      },
      "source": [
        "class EncoderRNN(nn.Module):\n",
        "\n",
        "    def __init__(self, input_size, hidden_size):\n",
        "        super(EncoderRNN, self).__init__() ##nn.Module 상속.\n",
        "        \n",
        "        self.hidden_size = hidden_size #Hidden size는 Hidden cell의 유닛 개수.\n",
        "\n",
        "        self.embedding = nn.Embedding(input_size, hidden_size) #input을 embedding하는 함수.input은 hidden size 크기로 embedding된다.\n",
        "\n",
        "        self.gru = nn.GRU(hidden_size, hidden_size) #input이 embedding되면 hidden_size가 되기 때문에 hiddensize가 input이 된다. \n",
        "\n",
        "    def forward(self, input, hidden):\n",
        "\n",
        "        embedded = self.embedding(input).view(1, 1, -1) #input을 embedding 및 차원 변경. 1개의 sequence == Hidden cell의 개수, 1개의 row(batch_size), n개의 column\n",
        "\n",
        "        output = embedded  #output은 embedding된 하나의 input sequence임.(hidden_size와 같다)\n",
        "\n",
        "        output, hidden = self.gru(output, hidden) #GRU에서 input은 input sequence와 hidden state 출력 값 2개가 된다.\n",
        "\n",
        "        return output, hidden\n",
        "\n",
        "    def initHidden(self):\n",
        "\n",
        "        return torch.zeros(1, 1, self.hidden_size, device=device) ##1개의 sequence == Hidden cell의 개수, 1개의 row, n개의 column"
      ],
      "execution_count": null,
      "outputs": []
    },
    {
      "cell_type": "markdown",
      "metadata": {
        "id": "y8D00cnah4rs"
      },
      "source": [
        "## 디코더\n",
        "디코더는 인코더의 출력 벡터를 받아서 번역을 생성하기 위한 단어 시퀀스를 출력합니다.\n",
        "\n",
        "### 간단한 디코더 과정 \n",
        "- 가장 간단한 Seq2Seq 디코더는 인코더의 마지막 출력만을 이용합니다. 이 마지막 출력은 전체 시퀀스에서 문맥을 인코드하기 때문에 문맥 벡터(context vector)로 불립니다. 이 문맥 벡터는 디코더의 초기 은닉 상태로 사용 됩니다.\n",
        "\n",
        "- 디코딩의 매 단계에서 디코더에게 입력 토큰과 은닉 상태가 주어집니다. 초기 입력 토큰은 문자열-시작(start-of-string) <SOS> 토큰이고, 첫 은닉 상태는 문맥 벡터(인코더의 마지막 은닉 상태)입니다. \n",
        "\n",
        "\n",
        "![image.png](data:image/png;base64,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)\n",
        "\n",
        "#### init function\n",
        "- Decoder의 구조를 정의해주는 function으로써, 클래스가 호출될 때 가장 먼저 실행되는 함수이다.\n",
        "- nn.Module을 상속받는다. \n",
        "- Hidden_size를 정의하고, embedding 구조를 정의한다. embedding은 이전 output이 input으로 들어가서 hidden size로 embbeding 되어 나온다.\n",
        "- GRU 셀을 사용하며, input 2개의 형식이 모두 hidden_size이다. \n",
        "- output을 뽑아내기전 Linear 계층을 거친다. RNN에서 fc(fully-connected)를 거치는 것과 동일.\n",
        "- Linear 계층을 거친 vector를 softmax함수를 한번 더 거치는데, 이는 최종적으로 나올 확률이 가장 높은 값을 도출하기 위함이다. dim=1은 한 row를 기준으로 확률을 구하겠다는 것이고, dim=0은 한 column을 기준으로 확률을 구하는 것이다.\n",
        "\n",
        "#### forward function\n",
        "- decoder에서 데이터를 어떻게 흘려보낼지를 정의하는 함수이다.\n",
        "- 가장 최초에는 embedding함수를 호출해 input을 embedding해준다. \n",
        "- 다음 relu 함수(activation function)을 거친다. 왜 하는지는 모르겠다. 아마도 embedding된 vector 중, 쓸데없는 것을 거를려고 하는 것인가? \n",
        "- relu 함수의 출력 값과 이전 hidden state의 값을 gru셀에 넣어준다. gru셀의 출력은 output과 hidden state 두 개이다.\n",
        "- gru셀의 출력 값을 init function에서 설계한 linear 함수에 넣어주기 위해 out 변수에 저장된 out.Linear 함수를 호출하여 파라미터로 넣어주고 출력 값을 softmax함수를 거쳐서 최종 output으로 나오게 된다. \n",
        "\n",
        "#### initHidden function\n",
        "- 해당 함수는 h0를 0으로 만들기 위한 함수이다."
      ]
    },
    {
      "cell_type": "code",
      "metadata": {
        "id": "VR50jzmscZIE"
      },
      "source": [
        "class DecoderRNN(nn.Module):\n",
        "    def __init__(self, hidden_size, output_size):\n",
        "        super(DecoderRNN, self).__init__()\n",
        "        \n",
        "        self.hidden_size = hidden_size #hidden size가 input이 된다.\n",
        "\n",
        "        self.embedding = nn.Embedding(output_size, hidden_size) #최종 output(어떤 단어)가 다시 embedding되어야 한다.\n",
        "        \n",
        "        self.gru = nn.GRU(hidden_size, hidden_size) #input,output 모두 hidden size이다.\n",
        "        \n",
        "        self.out = nn.Linear(hidden_size, output_size) #output에는 linear 모델을 적용했다.\n",
        "        \n",
        "        self.softmax = nn.LogSoftmax(dim=1)    #output결과를 softmax하기 위함이다. 왜 dim=1의 의미는 row를 기준으로 확률을 나눈다는 의미.\n",
        "\n",
        "    def forward(self, input, hidden):\n",
        "        output = self.embedding(input).view(1, 1, -1) #단어 embedding하기.\n",
        "        output = F.relu(output) #relu함수 거치기.\n",
        "        output, hidden = self.gru(output, hidden) #gru셀 거치기.\n",
        "        output = self.softmax(self.out(output[0])) #output을 softmax에 넣기.\n",
        "        return output, hidden #softmax 통과 값과 hidden state값 넣기.\n",
        "\n",
        "    def initHidden(self):\n",
        "        return torch.zeros(1, 1, self.hidden_size, device=device)"
      ],
      "execution_count": null,
      "outputs": []
    },
    {
      "cell_type": "markdown",
      "metadata": {
        "id": "g9r2KdBql535"
      },
      "source": [
        "### 학습하기\n",
        "\n",
        "#### 학습 데이터 준비\n",
        "학습을 위해서, 각 쌍마다 입력 Tensor(입력 문장의 단어 주소)와 목표 Tensor(목표 문장의 단어 주소)가 필요합니다. 이 벡터들을 생성하는 동안 두 시퀀스에 EOS 토큰을 추가 합니다."
      ]
    },
    {
      "cell_type": "code",
      "metadata": {
        "id": "T_MaUmqAlpFG"
      },
      "source": [
        "def indexesFromSentence(lang, sentence):\n",
        "    return [lang.word2index[word] for word in sentence.split(' ')]\n",
        "\n",
        "\n",
        "def tensorFromSentence(lang, sentence):\n",
        "    indexes = indexesFromSentence(lang, sentence)\n",
        "    indexes.append(EOS_token)\n",
        "    return torch.tensor(indexes, dtype=torch.long, device=device).view(-1, 1)\n",
        "\n",
        "\n",
        "def tensorsFromPair(pair):\n",
        "    input_tensor = tensorFromSentence(input_lang, pair[0])\n",
        "    target_tensor = tensorFromSentence(output_lang, pair[1])\n",
        "    return (input_tensor, target_tensor)"
      ],
      "execution_count": null,
      "outputs": []
    },
    {
      "cell_type": "markdown",
      "metadata": {
        "id": "NFgW08bimHhB"
      },
      "source": [
        "### 모델 학습 \n",
        "학습을 위해서 인코더에 입력 문장을 넣고 모든 출력과 최신 은닉 상태를 추적합니다. 그런 다음 디코더에 첫 번째 입력으로 <SOS> 토큰과 인코더의 마지막 은닉 상태가 첫번쩨 은닉 상태로 제공됩니다.\n",
        "\n",
        "#### 학습 과정 설명.(코드 순서대로)\n",
        "1. 초기화 및 기초 파라미터 정의\n",
        "- encoder_hidden의 초기값 h0를 0으로 초기화 시킵니다.\n",
        "- encoder_optimizer와 decoder_optimizer의 값을 0으로 초기화 시킵니다.(변수 초기화 하듯)\n",
        "- input의 길이와 target의 길이를 정의합니다. input_tensor.size(0)은 문장의 개수(row 수)가 출력이 됩니다.  input_tensor와 target_tensor에는 input_data(여러 문장의 데이터)와 target_data(정답 번역 여러 문장)가 들어 있습니다.\n",
        "- encoder_output의 형태를 정의해줍니다. encoder_output의 형태는 hidden_size만큼의 tensor가 됩니다. \n",
        "- loss를 0으로 초기화 해줍니다.\n",
        "\n",
        "\n",
        "2.1 인코더 학습과정\n",
        "- input_length(문장의 개수, 한 문장 당 1개의 row)만큼 encoder에 data가 들어가고 output으로 나온 a,와 hidden state 중 hidden state가 다시 encoder에 들어가는 형식입니다.\n",
        "\n",
        "2.2 디코더 학습과정\n",
        "- decoder의 input은 초기에는 SOS_token으로 설정하고, decoder의 초기 hidden은 결국 encoder의 마지막 hidden이 되기 때문에 해당 값을 넣어줍니다. \n",
        "- decoder는 target_length만큼 반복문을 돌면서 학습합니다. 즉, target_length 문장의 개수만큼 반복문을 돕니다.\n",
        "- 그리고 학습을 시작합니다. output은 가장 큰 1개의 값이 됩니다. \n",
        "- 그리고 각 학습마다 Loss를 계산합니다. \n",
        "\n",
        "\n",
        "\n",
        "##### 3. 역전파 및 가중치 업데이트\n",
        "- loss.backward()를 통해 backpropagation을 진행합니다.\n",
        "- optimizer.step을 통해 가중치를 업데이트 합니다. \n",
        "\n",
        "#### Teacher forcing(해당 예제에서는 사용 X)\n",
        "- **“Teacher forcing”**은 다음 입력으로 디코더의 예측을 사용하는 대신 실제 목표 출력을 다음 입력으로 사용하는 컨셉입니다. “Teacher forcing”을 사용하면 **수렴이 빨리되지만 학습된 네트워크가 잘못 사용될 때 불안정성**을 보입니다.\n",
        "- Teacher-forced 네트워크의 출력이 일관된 문법으로 읽지만 정확한 번역과는 거리가 멀다는 것을 볼 수 있습니다. 직관적으로 출력 문법을 표현하는 법을 배우고 교사가 처음 몇 단어를 말하면 의미를 “선택” 할 수 있지만, 번역에서 처음으로 문장을 만드는 법은 잘 배우지 못합니다.\n",
        "- PyTorch의 autograd 가 제공하는 자유 덕분에 간단한 If 문으로 Teacher Forcing을 사용할지 아니면 사용하지 않을지를 선택할 수 있습니다. 더 많이 사용하려면 teacher_forcing_ratio 를 확인하십시오."
      ]
    },
    {
      "cell_type": "code",
      "metadata": {
        "id": "u4p8Mxn7n0Vb"
      },
      "source": [
        "teacher_forcing_ratio = 0.5\n",
        "#train함수.\n",
        "def train(input_tensor, target_tensor, encoder, decoder, encoder_optimizer, decoder_optimizer, criterion, max_length=MAX_LENGTH):\n",
        "    #Encoder_Hidden init시키기. h0 0으로 만들기.\n",
        "    encoder_hidden = encoder.initHidden()\n",
        "\n",
        "    #Encoder, Decoder 기울기 초기화(0으로 만들기)\n",
        "    encoder_optimizer.zero_grad()\n",
        "    decoder_optimizer.zero_grad()\n",
        "\n",
        "    #input, target 사이즈 지정, input_tensor의 row 개수.\n",
        "    input_length = input_tensor.size(0)\n",
        "    target_length = target_tensor.size(0)\n",
        "\n",
        "    #encoder의 output 형태 지정.\n",
        "    encoder_outputs = torch.zeros(encoder.hidden_size, device=device)\n",
        "\n",
        "    loss = 0\n",
        "\n",
        "    #input_length의 길이 만큼 반복문이 들어가야한다.\n",
        "    for ei in range(input_length):\n",
        "      #input_tensor에서 하나씩(input_data_), 이전 hidden state를 또 하나의 인풋으로 넣어서. 학습. output은 2개임.\n",
        "      _ , encoder_hidden = encoder(input_tensor[ei], encoder_hidden)\n",
        "      #encoder_outputs[ei] = encoder_output[0, 0]  #가장 앞에 것을 뽑아오는 것 같음.attention 구조에서 쓰이는 것임.\n",
        "    \n",
        "    decoder_input = torch.tensor([[SOS_token]], device=device)#Decoder에서는 처음에는 SOS_token으로 시작한다. \n",
        "\n",
        "    decoder_hidden = encoder_hidden  #Hidden_size는 여기서는 같다. \n",
        "    \n",
        "    #target_length의 길이만큼 반복문이 들어가야 한다.\n",
        "    for di in range(target_length):\n",
        "        decoder_output, decoder_hidden= decoder(decoder_input, decoder_hidden)\n",
        "        _, topi = decoder_output.topk(1) #결과 중 값이 큰 순으로 1개. _는 가장 큰 값, topi는 해당 값 index\n",
        "        decoder_input = topi.squeeze().detach()  # 입력으로 사용할 부분을 히스토리에서 분리\n",
        "\n",
        "        loss += criterion(decoder_output, target_tensor[di]) #lossfunction 계산해서 loss에 더해주기.\n",
        "\n",
        "        #EOS_token이 나오면 문장이 끝난걸로 간주하고 멈춤\n",
        "        if decoder_input.item() == EOS_token:\n",
        "            break\n",
        "    \n",
        "    # 역전파 단계.\n",
        "    loss.backward()\n",
        "\n",
        "    # Update parameters , 파라미터 update\n",
        "    encoder_optimizer.step()\n",
        "    decoder_optimizer.step()\n",
        "\n",
        "    return loss.item() / target_length"
      ],
      "execution_count": null,
      "outputs": []
    },
    {
      "cell_type": "code",
      "metadata": {
        "colab": {
          "base_uri": "https://localhost:8080/"
        },
        "id": "Y7WOZfUK6EHQ",
        "outputId": "92c0500f-279d-473a-d1b2-128880ae3da9"
      },
      "source": [
        "x = torch.Tensor([[1,12,3,223.5,100],[1,12,3,2266.5,103]])\n",
        "x.size(0)"
      ],
      "execution_count": null,
      "outputs": [
        {
          "output_type": "execute_result",
          "data": {
            "text/plain": [
              "2"
            ]
          },
          "metadata": {
            "tags": []
          },
          "execution_count": 28
        }
      ]
    },
    {
      "cell_type": "code",
      "metadata": {
        "id": "0V3XuoO46HqQ"
      },
      "source": [
        "a , b =x.topk(1)"
      ],
      "execution_count": null,
      "outputs": []
    },
    {
      "cell_type": "code",
      "metadata": {
        "colab": {
          "base_uri": "https://localhost:8080/"
        },
        "id": "4ufymzg36RIj",
        "outputId": "34fa163c-44d4-4349-d2cb-71975d3ecb3c"
      },
      "source": [
        "a"
      ],
      "execution_count": null,
      "outputs": [
        {
          "output_type": "execute_result",
          "data": {
            "text/plain": [
              "tensor([[ 223.5000],\n",
              "        [2266.5000]])"
            ]
          },
          "metadata": {
            "tags": []
          },
          "execution_count": 30
        }
      ]
    },
    {
      "cell_type": "code",
      "metadata": {
        "colab": {
          "base_uri": "https://localhost:8080/"
        },
        "id": "jinoOFz-6Sso",
        "outputId": "34a86ad7-b2ad-4bf1-c05e-ed798581e084"
      },
      "source": [
        "#b\n",
        "b.squeeze()"
      ],
      "execution_count": null,
      "outputs": [
        {
          "output_type": "execute_result",
          "data": {
            "text/plain": [
              "tensor([3, 3])"
            ]
          },
          "metadata": {
            "tags": []
          },
          "execution_count": 31
        }
      ]
    },
    {
      "cell_type": "markdown",
      "metadata": {
        "id": "69niajwxpG8d"
      },
      "source": [
        "이것은 현재 시간과 진행률%을 고려해 경과된 시간과 남은 예상 시간을 출력하는 헬퍼 함수입니다."
      ]
    },
    {
      "cell_type": "code",
      "metadata": {
        "id": "xe6V21L1pHTm"
      },
      "source": [
        "import time\n",
        "import math\n",
        "\n",
        "\n",
        "def asMinutes(s):\n",
        "    m = math.floor(s / 60)\n",
        "    s -= m * 60\n",
        "    return '%dm %ds' % (m, s)\n",
        "\n",
        "\n",
        "def timeSince(since, percent):\n",
        "    now = time.time()\n",
        "    s = now - since\n",
        "    es = s / (percent)\n",
        "    rs = es - s\n",
        "    return '%s (- %s)' % (asMinutes(s), asMinutes(rs))"
      ],
      "execution_count": null,
      "outputs": []
    },
    {
      "cell_type": "markdown",
      "metadata": {
        "id": "QAMgfubBpKGY"
      },
      "source": [
        "전체 학습 과정은 다음과 같습니다:\n",
        "\n",
        "- 타이머 시작\n",
        "\n",
        "- optimizers와 criterion(Lossfunction) 초기화\n",
        "\n",
        "- 학습 쌍의 세트 생성\n",
        "\n",
        "- 도식화를 위한 빈 손실 배열 시작\n",
        "\n",
        "그런 다음 우리는 여러 번 train 을 호출하며 때로는 진행률 (예제의 %, 현재까지의 예상 시간)과 평균 손실을 출력합니다."
      ]
    },
    {
      "cell_type": "code",
      "metadata": {
        "id": "7OCJqIbupNb1"
      },
      "source": [
        "def trainIters(encoder, decoder, n_iters, print_every=1000, plot_every=100, learning_rate=0.01):\n",
        "    start = time.time()\n",
        "    plot_losses = []\n",
        "    print_loss_total = 0  # print_every 마다 초기화\n",
        "    plot_loss_total = 0  # plot_every 마다 초기화\n",
        "\n",
        "    #optimizer, criterion 초기화\n",
        "    encoder_optimizer = optim.SGD(encoder.parameters(), lr=learning_rate)\n",
        "    decoder_optimizer = optim.SGD(decoder.parameters(), lr=learning_rate)\n",
        "    \n",
        "    #training data 전처리 과정 중 하나.\n",
        "    training_pairs = [tensorsFromPair(random.choice(pairs))\n",
        "                      for i in range(n_iters)]\n",
        "    criterion = nn.NLLLoss()\n",
        "\n",
        "    \n",
        "    for iter in range(1, n_iters + 1):\n",
        "      #학습 쌍 세트 생성.\n",
        "        training_pair = training_pairs[iter - 1]\n",
        "        input_tensor = training_pair[0]\n",
        "        target_tensor = training_pair[1]\n",
        "\n",
        "      #학습을 통해 loss계산 및 도식화.\n",
        "        loss = train(input_tensor, target_tensor, encoder,\n",
        "                     decoder, encoder_optimizer, decoder_optimizer, criterion)\n",
        "        print_loss_total += loss\n",
        "        plot_loss_total += loss\n",
        "\n",
        "        if iter % print_every == 0:\n",
        "            print_loss_avg = print_loss_total / print_every\n",
        "            print_loss_total = 0\n",
        "            print('%s (%d %d%%) %.4f' % (timeSince(start, iter / n_iters),\n",
        "                                         iter, iter / n_iters * 100, print_loss_avg))\n",
        "\n",
        "        if iter % plot_every == 0:\n",
        "            plot_loss_avg = plot_loss_total / plot_every\n",
        "            plot_losses.append(plot_loss_avg)\n",
        "            plot_loss_total = 0\n",
        "\n",
        "    showPlot(plot_losses)"
      ],
      "execution_count": null,
      "outputs": []
    },
    {
      "cell_type": "markdown",
      "metadata": {
        "id": "heFA_VdRpQFH"
      },
      "source": [
        "### 결과 도식화\n",
        "matplotlib로 학습 중에 저장된 손실 값 plot_losses 의 배열을 사용하여 도식화합니다."
      ]
    },
    {
      "cell_type": "code",
      "metadata": {
        "id": "YaikkcfzpTTl"
      },
      "source": [
        "import matplotlib.pyplot as plt\n",
        "plt.switch_backend('agg')\n",
        "import matplotlib.ticker as ticker\n",
        "import numpy as np\n",
        "\n",
        "\n",
        "def showPlot(points):\n",
        "    plt.figure()\n",
        "    fig, ax = plt.subplots()\n",
        "    # 주기적인 간격에 이 locator가 tick을 설정\n",
        "    loc = ticker.MultipleLocator(base=0.2)\n",
        "    ax.yaxis.set_major_locator(loc)\n",
        "    plt.plot(points)"
      ],
      "execution_count": null,
      "outputs": []
    },
    {
      "cell_type": "markdown",
      "metadata": {
        "id": "JoNb5iHYpUB3"
      },
      "source": [
        "### 평가\n",
        "평가는 대부분 학습과 동일하지만 목표가 없으므로 각 단계마다 **디코더의 예측을 되돌려 전달**합니다. 단어를 예측할 때마다 그 단어를 출력 문자열에 추가합니다. 만약 **EOS 토큰을 예측하면 거기에서 멈춥니다.** 나중에 도식화를 위해서 디코더의 Attention 출력을 저장합니다."
      ]
    },
    {
      "cell_type": "code",
      "metadata": {
        "id": "VaEc0aK7pWuM"
      },
      "source": [
        "def evaluate(encoder, decoder, sentence, max_length=MAX_LENGTH):\n",
        "    with torch.no_grad():# autograd가 .requires_grad=True 인 Tensor들의 연산 기록을 추적하는 것을 멈출 수 있습니다.\n",
        "        input_tensor = tensorFromSentence(input_lang, sentence) #input_tensor생성.\n",
        "        input_length = input_tensor.size()[0] #input의 사이즈 == 총 데이터의 개수(여러 문장)\n",
        "        encoder_hidden = encoder.initHidden()#h0 초기화.\n",
        "\n",
        "        encoder_outputs = torch.zeros(encoder.hidden_size, device=device)\n",
        "\n",
        "        for ei in range(input_length):\n",
        "            encoder_output, encoder_hidden = encoder(input_tensor[ei],encoder_hidden)\n",
        "\n",
        "        decoder_input = torch.tensor([[SOS_token]], device=device)  # SOS\n",
        "\n",
        "        decoder_hidden = encoder_hidden\n",
        "\n",
        "        decoded_words = []\n",
        "        \n",
        "\n",
        "        for di in range(max_length):\n",
        "            decoder_output, decoder_hidden = decoder(decoder_input, decoder_hidden)\n",
        "        \n",
        "            _ , topi = decoder_output.data.topk(1)\n",
        "            if topi.item() == EOS_token:\n",
        "                decoded_words.append('<EOS>')\n",
        "                break\n",
        "            else:\n",
        "                decoded_words.append(output_lang.index2word[topi.item()])\n",
        "\n",
        "            decoder_input = topi.squeeze().detach()\n",
        "\n",
        "        return decoded_words"
      ],
      "execution_count": null,
      "outputs": []
    },
    {
      "cell_type": "code",
      "metadata": {
        "colab": {
          "base_uri": "https://localhost:8080/"
        },
        "id": "yCeCZ3n1v-mq",
        "outputId": "dd0a7b2d-15a7-4cf2-d57d-0b80549c71d0"
      },
      "source": [
        "k = torch.zeros(5,10)\n",
        "k"
      ],
      "execution_count": null,
      "outputs": [
        {
          "output_type": "execute_result",
          "data": {
            "text/plain": [
              "tensor([[0., 0., 0., 0., 0., 0., 0., 0., 0., 0.],\n",
              "        [0., 0., 0., 0., 0., 0., 0., 0., 0., 0.],\n",
              "        [0., 0., 0., 0., 0., 0., 0., 0., 0., 0.],\n",
              "        [0., 0., 0., 0., 0., 0., 0., 0., 0., 0.],\n",
              "        [0., 0., 0., 0., 0., 0., 0., 0., 0., 0.]])"
            ]
          },
          "metadata": {
            "tags": []
          },
          "execution_count": 16
        }
      ]
    },
    {
      "cell_type": "markdown",
      "metadata": {
        "id": "h6mJO9LmpY45"
      },
      "source": [
        "학습 세트에 있는 임의의 문장을 평가하고 입력, 목표 및 출력을 출력하여 주관적인 품질 판단을 내릴 수 있습니다:"
      ]
    },
    {
      "cell_type": "code",
      "metadata": {
        "id": "V-2wViclpbBp"
      },
      "source": [
        "def evaluateRandomly(encoder, decoder, n=10):\n",
        "    for i in range(n):\n",
        "        pair = random.choice(pairs)\n",
        "        print('>', pair[0])\n",
        "        print('=', pair[1])\n",
        "        output_words = evaluate(encoder, decoder, pair[0])\n",
        "        output_sentence = ' '.join(output_words)\n",
        "        print('<', output_sentence)\n",
        "        print('')"
      ],
      "execution_count": null,
      "outputs": []
    },
    {
      "cell_type": "markdown",
      "metadata": {
        "id": "I21lFjIxpbei"
      },
      "source": [
        "### 학습과 평가\n",
        "이러한 모든 헬퍼 함수를 이용해서 (추가 작업처럼 보이지만 여러 실험을 더 쉽게 수행 할 수 있음) 실제로 네트워크를 초기화하고 학습을 시작할 수 있습니다.\n",
        "\n",
        "입력 문장이 많이 필터링되었음을 기억하십시오. 이 작은 데이터 세트의 경우 256 크기의 은닉 노드(hidden node)와 단일 GRU 계층 같은 상대적으로 작은 네트워크를 사용할 수 있습니다. MacBook CPU에서 약 40분 후에 합리적인 결과를 얻을 것입니다."
      ]
    },
    {
      "cell_type": "code",
      "metadata": {
        "colab": {
          "base_uri": "https://localhost:8080/"
        },
        "id": "ImQaYmxvpgKs",
        "outputId": "39d2ca73-1e1d-4b1d-e72e-0716b0778dfa"
      },
      "source": [
        "hidden_size = 256\n",
        "encoder1 = EncoderRNN(input_lang.n_words, hidden_size).to(device)\n",
        "decoder1 = DecoderRNN(hidden_size, output_lang.n_words).to(device)\n",
        "trainIters(encoder1, decoder1, 75000, print_every=5000)"
      ],
      "execution_count": null,
      "outputs": [
        {
          "output_type": "stream",
          "text": [
            "0m 50s (- 11m 40s) (5000 6%) 2.9925\n",
            "1m 37s (- 10m 34s) (10000 13%) 2.4814\n",
            "2m 25s (- 9m 41s) (15000 20%) 2.1764\n",
            "3m 13s (- 8m 51s) (20000 26%) 1.9152\n",
            "4m 1s (- 8m 3s) (25000 33%) 1.6680\n",
            "4m 50s (- 7m 15s) (30000 40%) 1.4909\n",
            "5m 38s (- 6m 27s) (35000 46%) 1.3289\n",
            "6m 27s (- 5m 38s) (40000 53%) 1.1678\n",
            "7m 15s (- 4m 50s) (45000 60%) 1.0561\n",
            "8m 4s (- 4m 2s) (50000 66%) 0.9748\n",
            "8m 52s (- 3m 13s) (55000 73%) 0.8903\n",
            "9m 41s (- 2m 25s) (60000 80%) 0.7736\n",
            "10m 29s (- 1m 36s) (65000 86%) 0.7130\n",
            "11m 18s (- 0m 48s) (70000 93%) 0.6301\n",
            "12m 6s (- 0m 0s) (75000 100%) 0.6039\n"
          ],
          "name": "stdout"
        }
      ]
    },
    {
      "cell_type": "code",
      "metadata": {
        "id": "JNpKk5yapho2"
      },
      "source": [
        "evaluateRandomly(encoder1, decoder1)"
      ],
      "execution_count": null,
      "outputs": []
    },
    {
      "cell_type": "code",
      "metadata": {
        "colab": {
          "base_uri": "https://localhost:8080/"
        },
        "id": "yX1BBV53xOKz",
        "outputId": "5009214e-573d-4177-d4f7-584ec4c64bf1"
      },
      "source": [
        "input_lang.n_words"
      ],
      "execution_count": null,
      "outputs": [
        {
          "output_type": "execute_result",
          "data": {
            "text/plain": [
              "4345"
            ]
          },
          "metadata": {
            "tags": []
          },
          "execution_count": 14
        }
      ]
    },
    {
      "cell_type": "markdown",
      "metadata": {
        "id": "HXmMSPDr2t4v"
      },
      "source": [
        "참고자료 : \n",
        "- nn.LogSoftmax(dim=1)에서 dim = 1이 의미하는 것은 무엇인가?\n",
        "https://discuss.pytorch.org/t/dimension-for-logsoftmax/49042"
      ]
    }
  ]
}